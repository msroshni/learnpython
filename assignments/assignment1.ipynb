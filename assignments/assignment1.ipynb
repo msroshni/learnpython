{
 "cells": [
  {
   "cell_type": "markdown",
   "metadata": {},
   "source": [
    "<b>Task 1:</b>"
   ]
  },
  {
   "cell_type": "markdown",
   "metadata": {},
   "source": [
    "1.Install Jupyter notebook and run the first program and share the screenshot of the output."
   ]
  },
  {
   "cell_type": "markdown",
   "metadata": {},
   "source": [
    "<img src=\"firstprogram.png\" />"
   ]
  },
  {
   "cell_type": "markdown",
   "metadata": {},
   "source": [
    "2.Write a program which will find all such numbers which are divisible by 7 but are not a multipleof 5, between 2000 and 3200 (both included). The numbers obtained should be printed in acomma-separated sequence on a single line."
   ]
  },
  {
   "cell_type": "code",
   "execution_count": 1,
   "metadata": {},
   "outputs": [
    {
     "name": "stdout",
     "output_type": "stream",
     "text": [
      "2002,2009,2016,2023,2037,2044,2051,2058,2072,2079,2086,2093,2107,2114,2121,2128,2142,2149,2156,2163,2177,2184,2191,2198,2212,2219,2226,2233,2247,2254,2261,2268,2282,2289,2296,2303,2317,2324,2331,2338,2352,2359,2366,2373,2387,2394,2401,2408,2422,2429,2436,2443,2457,2464,2471,2478,2492,2499,2506,2513,2527,2534,2541,2548,2562,2569,2576,2583,2597,2604,2611,2618,2632,2639,2646,2653,2667,2674,2681,2688,2702,2709,2716,2723,2737,2744,2751,2758,2772,2779,2786,2793,2807,2814,2821,2828,2842,2849,2856,2863,2877,2884,2891,2898,2912,2919,2926,2933,2947,2954,2961,2968,2982,2989,2996,3003,3017,3024,3031,3038,3052,3059,3066,3073,3087,3094,3101,3108,3122,3129,3136,3143,3157,3164,3171,3178,3192,3199,"
     ]
    }
   ],
   "source": [
    "for i in range(2000,3201):\n",
    "    if i%5 != 0 and i%7==0: \n",
    "        print (i,end=\",\")"
   ]
  },
  {
   "cell_type": "markdown",
   "metadata": {},
   "source": [
    "3.Write a Python program to accept the user's first and last name and then getting them printed inthe the reverse order with a space between first name and last name."
   ]
  },
  {
   "cell_type": "code",
   "execution_count": 2,
   "metadata": {},
   "outputs": [
    {
     "name": "stdout",
     "output_type": "stream",
     "text": [
      "Enter your first name : Roshni\n",
      "Enter your last name : S\n",
      "Your name is : S Roshni "
     ]
    }
   ],
   "source": [
    "fullname = []\n",
    "first = input(\"Enter your first name : \")\n",
    "fullname.append(first)\n",
    "second = input(\"Enter your last name : \")\n",
    "fullname.append(second)\n",
    "\n",
    "print(\"Your name is : \",end=\"\")\n",
    "for name in fullname[::-1]:\n",
    "    print(name, end=\" \")"
   ]
  },
  {
   "cell_type": "markdown",
   "metadata": {},
   "source": [
    "4.Write a Python program to find the volume of a sphere with diameter 12 cm.Formula: V=4/3 * π * r^3"
   ]
  },
  {
   "cell_type": "code",
   "execution_count": 3,
   "metadata": {},
   "outputs": [
    {
     "name": "stdout",
     "output_type": "stream",
     "text": [
      "Volume :  905.142857142857\n"
     ]
    }
   ],
   "source": [
    "#diameter\n",
    "d = 12\n",
    "\n",
    "#radius = diameter/2\n",
    "r = d/2\n",
    "\n",
    "#pi value can be calculated as 22/7\n",
    "pi = 22/7\n",
    "\n",
    "print(\"Volume : \",(4/3)*pi*(r**3))"
   ]
  },
  {
   "cell_type": "markdown",
   "metadata": {},
   "source": [
    "<b>Task 2:<b>"
   ]
  },
  {
   "cell_type": "markdown",
   "metadata": {},
   "source": [
    "1.Write a program which accepts a sequence of comma-separated numbers from console andgenerate a list."
   ]
  },
  {
   "cell_type": "code",
   "execution_count": 4,
   "metadata": {},
   "outputs": [
    {
     "name": "stdout",
     "output_type": "stream",
     "text": [
      "Enter the sequence of numbers seperated by comma : 12,3,4\n",
      "The list of numbers is :  [12, 3, 4]\n"
     ]
    }
   ],
   "source": [
    "#manual splitting\n",
    "seq = input(\"Enter the sequence of numbers seperated by comma : \")\n",
    "#list to store numbers\n",
    "n = []\n",
    "#temporary variable to store inbetween\n",
    "tmp = ''\n",
    "\n",
    "for c in seq:\n",
    "    if c==\",\":\n",
    "        #adding string to n after typecasted as integer else added as string\n",
    "        n.append(int(tmp)) \n",
    "        #clearing tmp to continue\n",
    "        tmp=''\n",
    "    else:\n",
    "        #concatenating chars to tmp\n",
    "        tmp = tmp+c\n",
    "#for the ending number as it maynot end with a comma\n",
    "if tmp!= \"\":\n",
    "    n.append(int(tmp))\n",
    "\n",
    "print(\"The list of numbers is : \",n)"
   ]
  },
  {
   "cell_type": "code",
   "execution_count": 5,
   "metadata": {
    "scrolled": true
   },
   "outputs": [
    {
     "name": "stdout",
     "output_type": "stream",
     "text": [
      "Enter the sequence of numbers seperated by comma : 5,6,7\n",
      "The list of numbers is :  [5, 6, 7]\n"
     ]
    }
   ],
   "source": [
    "# using split() function \n",
    "\n",
    "seq = input(\"Enter the sequence of numbers seperated by comma : \")\n",
    "\n",
    "n = seq.split(\",\")\n",
    "num =[]\n",
    "#converting string to integer\n",
    "for i in n:\n",
    "    num.append(int(i))\n",
    "print (\"The list of numbers is : \",num)"
   ]
  },
  {
   "cell_type": "markdown",
   "metadata": {},
   "source": [
    "2.Create the pattern using nested for loop in Python."
   ]
  },
  {
   "cell_type": "code",
   "execution_count": 6,
   "metadata": {},
   "outputs": [
    {
     "name": "stdout",
     "output_type": "stream",
     "text": [
      "*  \n",
      "* *  \n",
      "* * *  \n",
      "* * * *  \n",
      "* * * * *  \n",
      "* * * *  \n",
      "* * *  \n",
      "* *  \n",
      "*  \n"
     ]
    }
   ],
   "source": [
    "l=1 #no. of stars\n",
    "n=5 # depth of pattern (till middle as that is where the mirror effect starts)\n",
    "d=n*2-1 # total pattern depth\n",
    "p=\"\" # pattern reverse indicator\n",
    "\n",
    "for i in range(d):\n",
    "    for j in range(l):\n",
    "        print(\"*\",end=\" \")\n",
    "    if(p == \"r\"):\n",
    "        d= d+1 # increment depth\n",
    "        l=l-1 # decrement star count\n",
    "    else:\n",
    "        l=l+1 \n",
    "        d=d-1\n",
    "    print(\" \")\n",
    "    # check whether depth and length wise stars are equal\n",
    "    if l==d:\n",
    "       p=\"r\" # reverse the pattern"
   ]
  },
  {
   "cell_type": "markdown",
   "metadata": {},
   "source": [
    "3.Write a Python program to reverse a word after accepting the input from the user.\n",
    "Sample Output:\n",
    "Input word: AcadGild \n",
    "Output: dilGdacA"
   ]
  },
  {
   "cell_type": "code",
   "execution_count": 9,
   "metadata": {},
   "outputs": [
    {
     "name": "stdout",
     "output_type": "stream",
     "text": [
      "Input Word: AcadGild\n",
      "Output: dliGdacA\n"
     ]
    }
   ],
   "source": [
    "word = input(\"Input Word: \")\n",
    "\n",
    "print(\"Output:\",word[::-1])"
   ]
  },
  {
   "cell_type": "markdown",
   "metadata": {},
   "source": [
    "4.Write a Python Program to print the given string in the format specified in the sample output.\n",
    "WE, THE PEOPLE OF INDIA, having solemnly resolved to constitute India into aSOVEREIGN, SOCIALIST, SECULAR, DEMOCRATIC REPUBLIC and to secure to allits citizens"
   ]
  },
  {
   "cell_type": "code",
   "execution_count": 10,
   "metadata": {},
   "outputs": [
    {
     "name": "stdout",
     "output_type": "stream",
     "text": [
      "WE, THE PEOPLE OF INDIA,\n",
      "\t having solemnly resolved to constitute India into a SOVEREIGN, !\n",
      "\t\t SOCIALIST, SECULAR, DEMOCRATIC REPUBLIC \n",
      "\t\t  and to secure to all its citizens\n"
     ]
    }
   ],
   "source": [
    "print(\"WE, THE PEOPLE OF INDIA,\\n\\t having solemnly resolved to constitute India into a SOVEREIGN, !\\n\\t\\t SOCIALIST, SECULAR, DEMOCRATIC REPUBLIC \\n\\t\\t\",\"\",\"and to secure to all its citizens\")"
   ]
  },
  {
   "cell_type": "code",
   "execution_count": null,
   "metadata": {},
   "outputs": [],
   "source": []
  }
 ],
 "metadata": {
  "kernelspec": {
   "display_name": "Python 3",
   "language": "python",
   "name": "python3"
  },
  "language_info": {
   "codemirror_mode": {
    "name": "ipython",
    "version": 3
   },
   "file_extension": ".py",
   "mimetype": "text/x-python",
   "name": "python",
   "nbconvert_exporter": "python",
   "pygments_lexer": "ipython3",
   "version": "3.6.9"
  }
 },
 "nbformat": 4,
 "nbformat_minor": 4
}
