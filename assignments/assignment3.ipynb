{
 "cells": [
  {
   "cell_type": "markdown",
   "metadata": {},
   "source": [
    "## Task 1"
   ]
  },
  {
   "cell_type": "markdown",
   "metadata": {},
   "source": [
    "### 1. Write a function to compute 5/0 and use try/except to catch the exceptions."
   ]
  },
  {
   "cell_type": "code",
   "execution_count": 3,
   "metadata": {},
   "outputs": [
    {
     "name": "stdout",
     "output_type": "stream",
     "text": [
      "division by zero\n",
      "Thats it!\n"
     ]
    }
   ],
   "source": [
    "# try a block of code\n",
    "try:\n",
    "    d = 5/0\n",
    "# zero division error to be catched here\n",
    "except ZeroDivisionError as e:\n",
    "    print(e)\n",
    "# exception class catch here and display system message\n",
    "except Exception as e:\n",
    "    print(\"There is error in code\",e)\n",
    "# default except if previous except are not catched\n",
    "except:\n",
    "    print(\"error: cannot execute code properly!\")\n",
    "# else will work if code executed and completed successfully\n",
    "else:\n",
    "    print(\"division completed successfully!\")\n",
    "# No matter what the code does, finally will function\n",
    "finally:\n",
    "    print(\"Thats it!\")"
   ]
  },
  {
   "cell_type": "markdown",
   "metadata": {},
   "source": [
    "### 2.Implement a Python program to generate all sentences where subject is in [\"Americans\",\"Indians\"] and verb is in [\"Play\", \"watch\"] and the object is in [\"Baseball\",\"cricket\"].\n",
    "### Hint: Subject,Verb and Object should be declared in the program as shown below.subjects=[\"Americans \",\"Indians\"]verbs=[\"play\",\"watch\"]objects=[\"Baseball\",\"Cricket\"]\n",
    "### Output should come as below:Americans  play Baseball.Americans  play Cricket.Americans  watch Baseball.Americans  watch Cricket.Indians play Baseball.Indians play Cricket.Indians watch Baseball.Indians watch Cricket."
   ]
  },
  {
   "cell_type": "code",
   "execution_count": 4,
   "metadata": {},
   "outputs": [
    {
     "name": "stdout",
     "output_type": "stream",
     "text": [
      "Americans play baseball.\n",
      "Americans play cricket.\n",
      "Americans watch baseball.\n",
      "Americans watch cricket.\n",
      "Indians play baseball.\n",
      "Indians play cricket.\n",
      "Indians watch baseball.\n",
      "Indians watch cricket.\n"
     ]
    }
   ],
   "source": [
    "s = [\"Americans\", \"Indians\"]\n",
    "v = [\"play\", \"watch\"]\n",
    "o = [\"baseball\", \"cricket\"]\n",
    "for i in range(len(s)):\n",
    "    for j in range(len(v)):\n",
    "        for k in range(len(o)):\n",
    "            print(s[i]+\" \"+v[j]+\" \"+o[k]+\".\")"
   ]
  },
  {
   "cell_type": "markdown",
   "metadata": {},
   "source": [
    "## Task 2"
   ]
  },
  {
   "cell_type": "markdown",
   "metadata": {},
   "source": [
    "### Write a function so that the columns of the output matrix are powers of the input vector.\n",
    "### The order of the powers is determined by the increasing boolean argument. Specifically,when increasing is False, the i-th output column is the input vector raised element-wise to the power of N - i - 1. \n",
    "### HINT : Such a matrix with a geometric progression in each row is named for Alexandre-Theophile Vandermonde."
   ]
  },
  {
   "cell_type": "code",
   "execution_count": 18,
   "metadata": {},
   "outputs": [
    {
     "name": "stdout",
     "output_type": "stream",
     "text": [
      "enter increasing True or False :False\n",
      "[1, 1, 1]\n",
      "[4, 2, 1]\n",
      "[9, 3, 1]\n",
      "[16, 4, 1]\n",
      "[25, 5, 1]\n"
     ]
    }
   ],
   "source": [
    "increase = input(\"Enter increasing True or False :\")\n",
    "\n",
    "# matrix\n",
    "x = [[1,2,3,4,5]]\n",
    "# Power\n",
    "N = 3\n",
    "\n",
    "# declaring number of rows and cols\n",
    "rows = len(x) \n",
    "cols = len(x[0])\n",
    "\n",
    "if (increase == \"False\"):\n",
    "    m = [[x[0][j]**(N-i-1) for i in range(N)] for j in range(cols)]\n",
    "    for k in m:\n",
    "        print(k,sep = \",\")\n",
    "elif (increase == \"True\"):\n",
    "    d = [[x[0][j]**(i) for i in range(N)] for j in range(cols)]\n",
    "    for h in d:\n",
    "        print(h, sep = \",\")"
   ]
  },
  {
   "cell_type": "code",
   "execution_count": null,
   "metadata": {},
   "outputs": [],
   "source": []
  }
 ],
 "metadata": {
  "kernelspec": {
   "display_name": "Python 3",
   "language": "python",
   "name": "python3"
  },
  "language_info": {
   "codemirror_mode": {
    "name": "ipython",
    "version": 3
   },
   "file_extension": ".py",
   "mimetype": "text/x-python",
   "name": "python",
   "nbconvert_exporter": "python",
   "pygments_lexer": "ipython3",
   "version": "3.6.9"
  }
 },
 "nbformat": 4,
 "nbformat_minor": 4
}
