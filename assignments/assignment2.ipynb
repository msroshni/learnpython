{
 "cells": [
  {
   "cell_type": "markdown",
   "metadata": {},
   "source": [
    "# Task 1"
   ]
  },
  {
   "cell_type": "markdown",
   "metadata": {},
   "source": [
    "### 1.1 Write a Python Program to implement your own myreduce() function which works exactly like Python's built-in function reduce()"
   ]
  },
  {
   "cell_type": "code",
   "execution_count": 1,
   "metadata": {},
   "outputs": [
    {
     "name": "stdout",
     "output_type": "stream",
     "text": [
      "15\n"
     ]
    }
   ],
   "source": [
    "\n",
    "#function to replicate python's reduce()\n",
    "def myreduce(list):\n",
    "    #assigning the first value of list to a\n",
    "    a=list[0]\n",
    "    #initialize b as 0\n",
    "    b=0\n",
    "    #loop from second value of the list to end\n",
    "    for i in range(1,len(list)):\n",
    "        #add a and b, assign it to b and assign next value in list to b\n",
    "        a,b = a+b,list[i]\n",
    "        #yielding a+b\n",
    "        yield a+b       \n",
    "\n",
    "#list\n",
    "l=[1,2,3,4,5]\n",
    "#calling myreduce() in iter to create an iterator\n",
    "v = iter(myreduce(l))\n",
    "\n",
    "# loop the iterator to append the result to an array\n",
    "m=[]\n",
    "#no of elements in the array will be one less than the total elements\n",
    "for i in range(len(l)-1):\n",
    "    m.append(next(v))\n",
    "    \n",
    "#the total sum will be present in the last element of the array.    \n",
    "print(m[-1])"
   ]
  },
  {
   "cell_type": "markdown",
   "metadata": {},
   "source": [
    "### 1.2 Write a Python program to implement your own myfilter() function which works exactly like Python's built-in function filter()"
   ]
  },
  {
   "cell_type": "code",
   "execution_count": 2,
   "metadata": {},
   "outputs": [
    {
     "name": "stdout",
     "output_type": "stream",
     "text": [
      "[22, 34]\n"
     ]
    }
   ],
   "source": [
    "#function to replicate the filter()\n",
    "def myfilter(func,l):\n",
    "    for i in range(len(l)):\n",
    "        #check whether the function returns true\n",
    "        if (func(l[i])):\n",
    "            yield l[i]\n",
    "            \n",
    "#filter the list by even or not\n",
    "def even(i):\n",
    "    if i%2 == 0:\n",
    "        return True\n",
    "    \n",
    "list=[22,34,33,11]\n",
    "# calling the myfilter() by passing the even() and list\n",
    "s = iter(myfilter(even,list))\n",
    "\n",
    "m=[]\n",
    "while (True):\n",
    "    # check whether next() reaches the end\n",
    "    v = next(s,'end')\n",
    "    if v != 'end':\n",
    "        m.append(v)\n",
    "    else:\n",
    "        break\n",
    "        \n",
    "print(m)"
   ]
  },
  {
   "cell_type": "markdown",
   "metadata": {},
   "source": [
    "### 2 Write List comprehensions to produce the following Lists"
   ]
  },
  {
   "cell_type": "markdown",
   "metadata": {},
   "source": [
    "#### ['A', 'C', 'A', 'D', 'G', 'I', ’L’, ‘ D’]"
   ]
  },
  {
   "cell_type": "code",
   "execution_count": 3,
   "metadata": {},
   "outputs": [
    {
     "data": {
      "text/plain": [
       "['A', 'C', 'A', 'D', 'G', 'I', 'L', 'D']"
      ]
     },
     "execution_count": 3,
     "metadata": {},
     "output_type": "execute_result"
    }
   ],
   "source": [
    "str = \"ACADGILD\"\n",
    "[str[i] for i in range(len(str))]"
   ]
  },
  {
   "cell_type": "markdown",
   "metadata": {},
   "source": [
    "#### ['x', 'xx', 'xxx', 'xxxx', 'y', 'yy', 'yyy', 'yyyy', 'z', 'zz', 'zzz', 'zzzz']"
   ]
  },
  {
   "cell_type": "code",
   "execution_count": 4,
   "metadata": {},
   "outputs": [
    {
     "data": {
      "text/plain": [
       "['x', 'xx', 'xxx', 'xxxx', 'y', 'yy', 'yyy', 'yyyy', 'z', 'zz', 'zzz', 'zzzz']"
      ]
     },
     "execution_count": 4,
     "metadata": {},
     "output_type": "execute_result"
    }
   ],
   "source": [
    "l = ['x','y','z']\n",
    "[i * j for j in ['x', 'y', 'z'] for i in range(1, 5)]"
   ]
  },
  {
   "cell_type": "markdown",
   "metadata": {},
   "source": [
    "#### ['x', 'y', 'z', 'xx', 'yy', 'zz', 'xx', 'yy', 'zz', 'xxxx', 'yyyy', 'zzzz']"
   ]
  },
  {
   "cell_type": "code",
   "execution_count": 5,
   "metadata": {},
   "outputs": [
    {
     "data": {
      "text/plain": [
       "['x', 'y', 'z', 'xx', 'yy', 'zz', 'xx', 'yy', 'zz', 'xxxx', 'yyyy', 'zzzz']"
      ]
     },
     "execution_count": 5,
     "metadata": {},
     "output_type": "execute_result"
    }
   ],
   "source": [
    "l=['x','y','z']\n",
    "[i*j if i!=3 else (i-1)*j for i in range(1,5) for j in l ]"
   ]
  },
  {
   "cell_type": "markdown",
   "metadata": {},
   "source": [
    "#### [[2], [3], [4], [3], [4], [5], [4], [5], [6]]"
   ]
  },
  {
   "cell_type": "code",
   "execution_count": 6,
   "metadata": {},
   "outputs": [
    {
     "data": {
      "text/plain": [
       "[[2], [3], [4], [3], [4], [5], [4], [5], [6]]"
      ]
     },
     "execution_count": 6,
     "metadata": {},
     "output_type": "execute_result"
    }
   ],
   "source": [
    "[[i+j] for i in range(2,5) for j in range(0,3)]"
   ]
  },
  {
   "cell_type": "markdown",
   "metadata": {},
   "source": [
    "#### [[2, 3, 4, 5], [3, 4, 5, 6], [4, 5, 6, 7], [5, 6, 7, 8]]"
   ]
  },
  {
   "cell_type": "code",
   "execution_count": 7,
   "metadata": {},
   "outputs": [
    {
     "data": {
      "text/plain": [
       "[[2, 3, 4, 5], [3, 4, 5, 6], [4, 5, 6, 7], [5, 6, 7, 8]]"
      ]
     },
     "execution_count": 7,
     "metadata": {},
     "output_type": "execute_result"
    }
   ],
   "source": [
    "[[i+j for i in range(2,6)]for j in range(0,4)]"
   ]
  },
  {
   "cell_type": "markdown",
   "metadata": {},
   "source": [
    "#### [(1, 1), (2, 1), (3, 1), (1, 2), (2, 2), (3, 2), (1, 3), (2, 3), (3, 3)]"
   ]
  },
  {
   "cell_type": "code",
   "execution_count": 8,
   "metadata": {},
   "outputs": [
    {
     "data": {
      "text/plain": [
       "[(1, 1), (2, 1), (3, 1), (1, 2), (2, 2), (3, 2), (1, 3), (2, 3), (3, 3)]"
      ]
     },
     "execution_count": 8,
     "metadata": {},
     "output_type": "execute_result"
    }
   ],
   "source": [
    "[(j,i)for i in range(1,4) for j in range(1,4)]"
   ]
  },
  {
   "cell_type": "markdown",
   "metadata": {},
   "source": [
    "### 3 Implement a function longestWord() that takes a list of words and returns the longest one."
   ]
  },
  {
   "cell_type": "code",
   "execution_count": 9,
   "metadata": {},
   "outputs": [
    {
     "name": "stdout",
     "output_type": "stream",
     "text": [
      "enter the words seperated by space eg:'all is well' : my name is maria\n",
      "The longest word is : maria\n"
     ]
    }
   ],
   "source": [
    "#function to find the longest word\n",
    "def longestWord(s):\n",
    "    # splitting the words from the entered string by using space\n",
    "    l= s.split()\n",
    "    # variable to store the longest word\n",
    "    long = \"\"\n",
    "    for i in range(len(l)):\n",
    "        # check whether the current word is longer than the word in long variable\n",
    "        if len(l[i])>len(long):\n",
    "            #if yes, change long to the current word\n",
    "            long=l[i]\n",
    "    return long        \n",
    "        \n",
    "sentence = input(\"enter the words seperated by space eg:'all is well' : \")    \n",
    "print(\"The longest word is :\",longestWord(sentence))"
   ]
  },
  {
   "cell_type": "markdown",
   "metadata": {},
   "source": [
    "## Task 2:"
   ]
  },
  {
   "cell_type": "markdown",
   "metadata": {},
   "source": [
    "### 1.1 Write a Python Program(with class concepts) to find the area of the triangle using the below formula.area = (s*(s-a)*(s-b)*(s-c)) ** 0.5 Function to take the length of the sides of triangle from user should be defined in the parentclass and function to calculate the area should be defined in subclass."
   ]
  },
  {
   "cell_type": "code",
   "execution_count": 10,
   "metadata": {},
   "outputs": [
    {
     "name": "stdout",
     "output_type": "stream",
     "text": [
      "enter length of 1st side : 3\n",
      "enter length of 2nd side : 3\n",
      "enter length of 3rd side : 3\n",
      "The area of the triangle is : 3.897114317029974\n"
     ]
    }
   ],
   "source": [
    "#main class to get the length of the sides\n",
    "class triangle:\n",
    "    def __init__ (self):\n",
    "        self.a = input(\"enter length of 1st side : \")\n",
    "        self.b = input(\"enter length of 2nd side : \")\n",
    "        self.c = input(\"enter length of 3rd side : \")\n",
    "\n",
    "#subclass inheriting the mainclass and doing the area calculation\n",
    "class area(triangle):\n",
    "    def __init__(self,*args):\n",
    "        super(area,self).__init__(*args)\n",
    "    def calc_area(self,s,a,b,c):\n",
    "        return ((s*(s-a)*(s-b)*(s-c)) ** 0.5)\n",
    "        \n",
    "#t=triangle()\n",
    "ar = area()\n",
    "a = int(ar.a)\n",
    "b = int(ar.b)\n",
    "c = int(ar.c)\n",
    "# calculating s, s=(a+b+c)/2\n",
    "s = (int(ar.a) +int(ar.b) +int(ar.c))/2\n",
    "#print(s)\n",
    "#calculating the area\n",
    "res = ar.calc_area(s,a,b,c)\n",
    "print(\"The area of the triangle is :\",res)"
   ]
  },
  {
   "cell_type": "markdown",
   "metadata": {},
   "source": [
    "### 1.2 Write a function filter_long_words() that takes a list of words and an integer n and returns the list of words that are longer than n"
   ]
  },
  {
   "cell_type": "code",
   "execution_count": 11,
   "metadata": {},
   "outputs": [
    {
     "name": "stdout",
     "output_type": "stream",
     "text": [
      "enter the words seperated by space eg:'all is well' : i am Maria\n",
      "enter character length : 2\n"
     ]
    },
    {
     "data": {
      "text/plain": [
       "['Maria']"
      ]
     },
     "execution_count": 11,
     "metadata": {},
     "output_type": "execute_result"
    }
   ],
   "source": [
    "def filter_long_words(s,n):\n",
    "    # splitting the words from the entered string by using space\n",
    "    l = s.split()\n",
    "    m = []\n",
    "    for i in l:\n",
    "        #if length of the word is greater than n, append it to list\n",
    "        if len(i)>n:\n",
    "            m.append(i)\n",
    "    return m\n",
    "            \n",
    "words = input(\"enter the words seperated by space eg:'all is well' : \")\n",
    "n = int(input(\"enter character length : \"))\n",
    "filter_long_words(words,n)"
   ]
  },
  {
   "cell_type": "markdown",
   "metadata": {},
   "source": [
    "### 2.1 Write a Python program using function concept that maps  list of words into a list of integersrepresenting the lengths of the corresponding words​.Hint: ​If a list [ ab,cde,erty] is passed on to the python function output should come as [2,3,4]Here 2,3 and 4 are the lengths of the words in the list"
   ]
  },
  {
   "cell_type": "code",
   "execution_count": 12,
   "metadata": {},
   "outputs": [
    {
     "data": {
      "text/plain": [
       "[5, 4, 2, 4]"
      ]
     },
     "execution_count": 12,
     "metadata": {},
     "output_type": "execute_result"
    }
   ],
   "source": [
    "# function to get length map in list\n",
    "def lenmap(l):\n",
    "    m=[]\n",
    "    #append the length of each word in list to m\n",
    "    for i in l:\n",
    "        m.append(len(i))\n",
    "    return m\n",
    "\n",
    "words = [\"think\",\"good\",\"do\",\"good\"]\n",
    "lenmap(words)"
   ]
  },
  {
   "cell_type": "markdown",
   "metadata": {},
   "source": [
    "### 2.2 Write a Python function which takes a character (i.e. a string of length 1) and returns True if it isa vowel, False otherwise"
   ]
  },
  {
   "cell_type": "code",
   "execution_count": 13,
   "metadata": {},
   "outputs": [
    {
     "name": "stdout",
     "output_type": "stream",
     "text": [
      "please enter a character like 'a': d\n"
     ]
    },
    {
     "data": {
      "text/plain": [
       "False"
      ]
     },
     "execution_count": 13,
     "metadata": {},
     "output_type": "execute_result"
    }
   ],
   "source": [
    "#function to check whether the entered character is vowel\n",
    "def vowel_check(c):\n",
    "    v =['a','e','i','o','u']\n",
    "    for i in v:\n",
    "        if c == i:\n",
    "            return True\n",
    "            break\n",
    "    else:\n",
    "        return False\n",
    "\n",
    "#check whether the character entered is of length 1\n",
    "str=\"\"\n",
    "while(True):\n",
    "    if(len(str)==1):\n",
    "        break\n",
    "    else:\n",
    "        str = input(\"please enter a character like 'a': \")\n",
    "        \n",
    "\n",
    "vowel_check(str)\n"
   ]
  },
  {
   "cell_type": "code",
   "execution_count": null,
   "metadata": {},
   "outputs": [],
   "source": []
  }
 ],
 "metadata": {
  "kernelspec": {
   "display_name": "Python 3",
   "language": "python",
   "name": "python3"
  },
  "language_info": {
   "codemirror_mode": {
    "name": "ipython",
    "version": 3
   },
   "file_extension": ".py",
   "mimetype": "text/x-python",
   "name": "python",
   "nbconvert_exporter": "python",
   "pygments_lexer": "ipython3",
   "version": "3.6.9"
  }
 },
 "nbformat": 4,
 "nbformat_minor": 4
}
